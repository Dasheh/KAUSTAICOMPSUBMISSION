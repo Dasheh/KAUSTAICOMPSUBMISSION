{
 "cells": [
  {
   "cell_type": "code",
   "execution_count": 1,
   "id": "29f4ee6c",
   "metadata": {
    "execution": {
     "iopub.execute_input": "2022-08-25T11:02:06.283801Z",
     "iopub.status.busy": "2022-08-25T11:02:06.282957Z",
     "iopub.status.idle": "2022-08-25T11:02:16.626877Z",
     "shell.execute_reply": "2022-08-25T11:02:16.625540Z"
    },
    "papermill": {
     "duration": 10.355202,
     "end_time": "2022-08-25T11:02:16.629772",
     "exception": false,
     "start_time": "2022-08-25T11:02:06.274570",
     "status": "completed"
    },
    "tags": []
   },
   "outputs": [
    {
     "name": "stdout",
     "output_type": "stream",
     "text": [
      "Collecting torchinfo\n",
      "  Downloading torchinfo-1.7.0-py3-none-any.whl (22 kB)\n",
      "Requirement already satisfied: torchmetrics in /opt/conda/lib/python3.7/site-packages (0.9.2)\n",
      "Requirement already satisfied: typing-extensions in /opt/conda/lib/python3.7/site-packages (from torchmetrics) (4.1.1)\n",
      "Requirement already satisfied: packaging in /opt/conda/lib/python3.7/site-packages (from torchmetrics) (21.3)\n",
      "Requirement already satisfied: torch>=1.3.1 in /opt/conda/lib/python3.7/site-packages (from torchmetrics) (1.11.0)\n",
      "Requirement already satisfied: numpy>=1.17.2 in /opt/conda/lib/python3.7/site-packages (from torchmetrics) (1.21.6)\n",
      "Requirement already satisfied: pyparsing!=3.0.5,>=2.0.2 in /opt/conda/lib/python3.7/site-packages (from packaging->torchmetrics) (3.0.9)\n",
      "Installing collected packages: torchinfo\n",
      "Successfully installed torchinfo-1.7.0\n"
     ]
    },
    {
     "name": "stderr",
     "output_type": "stream",
     "text": [
      "WARNING: Running pip as the 'root' user can result in broken permissions and conflicting behaviour with the system package manager. It is recommended to use a virtual environment instead: https://pip.pypa.io/warnings/venv\n"
     ]
    }
   ],
   "source": [
    "%%bash\n",
    "\n",
    "pip install torchinfo torchmetrics"
   ]
  },
  {
   "cell_type": "code",
   "execution_count": 2,
   "id": "62103fe2",
   "metadata": {
    "_cell_guid": "b1076dfc-b9ad-4769-8c92-a6c4dae69d19",
    "_uuid": "8f2839f25d086af736a60e9eeb907d3b93b6e0e5",
    "execution": {
     "iopub.execute_input": "2022-08-25T11:02:16.642607Z",
     "iopub.status.busy": "2022-08-25T11:02:16.642291Z",
     "iopub.status.idle": "2022-08-25T11:02:20.274315Z",
     "shell.execute_reply": "2022-08-25T11:02:20.273313Z"
    },
    "papermill": {
     "duration": 3.641158,
     "end_time": "2022-08-25T11:02:20.276834",
     "exception": false,
     "start_time": "2022-08-25T11:02:16.635676",
     "status": "completed"
    },
    "tags": []
   },
   "outputs": [],
   "source": [
    "import glob\n",
    "import pathlib\n",
    "import pickle\n",
    "import requests\n",
    "import tarfile\n",
    "import time\n",
    "\n",
    "import joblib\n",
    "import matplotlib.pyplot as plt\n",
    "import numpy as np\n",
    "import pandas as pd\n",
    "from sklearn import model_selection\n",
    "import torch\n",
    "from torch import nn, optim\n",
    "import torch.nn.functional as F\n",
    "from torch.utils import data\n",
    "import torchinfo\n",
    "import torchmetrics\n",
    "from torchvision import models, transforms"
   ]
  },
  {
   "cell_type": "markdown",
   "id": "4915260a",
   "metadata": {
    "papermill": {
     "duration": 0.005885,
     "end_time": "2022-08-25T11:02:20.288348",
     "exception": false,
     "start_time": "2022-08-25T11:02:20.282463",
     "status": "completed"
    },
    "tags": []
   },
   "source": [
    "# Load the data"
   ]
  },
  {
   "cell_type": "code",
   "execution_count": 3,
   "id": "11ac435c",
   "metadata": {
    "execution": {
     "iopub.execute_input": "2022-08-25T11:02:20.301630Z",
     "iopub.status.busy": "2022-08-25T11:02:20.299787Z",
     "iopub.status.idle": "2022-08-25T11:02:20.339427Z",
     "shell.execute_reply": "2022-08-25T11:02:20.338015Z"
    },
    "papermill": {
     "duration": 0.048715,
     "end_time": "2022-08-25T11:02:20.342299",
     "exception": false,
     "start_time": "2022-08-25T11:02:20.293584",
     "status": "completed"
    },
    "tags": []
   },
   "outputs": [
    {
     "name": "stdout",
     "output_type": "stream",
     "text": [
      "README.md\n",
      "sample-submission.csv\n",
      "test.csv\n",
      "train.csv\n"
     ]
    }
   ],
   "source": [
    "%%bash\n",
    "\n",
    "ls /kaggle/input/sdaiakaust-ai-bootcamp-august"
   ]
  },
  {
   "cell_type": "code",
   "execution_count": 4,
   "id": "d4f65f0b",
   "metadata": {
    "execution": {
     "iopub.execute_input": "2022-08-25T11:02:20.354722Z",
     "iopub.status.busy": "2022-08-25T11:02:20.354417Z",
     "iopub.status.idle": "2022-08-25T11:02:21.629616Z",
     "shell.execute_reply": "2022-08-25T11:02:21.628637Z"
    },
    "papermill": {
     "duration": 1.284075,
     "end_time": "2022-08-25T11:02:21.631957",
     "exception": false,
     "start_time": "2022-08-25T11:02:20.347882",
     "status": "completed"
    },
    "tags": []
   },
   "outputs": [],
   "source": [
    "DATA_DIR = pathlib.Path(\"/kaggle/input/sdaiakaust-ai-bootcamp-august/\")\n",
    "\n",
    "# training data contains both features and labels\n",
    "train_df = pd.read_csv(DATA_DIR / \"train.csv\", dtype=\"uint8\")\n",
    "\n",
    "# split training data into features and target\n",
    "_train_features = train_df.drop(\"labels\", axis=1)\n",
    "_train_target = train_df.loc[:, \"labels\"]\n",
    "\n",
    "# testing data contains only features\n",
    "test_features = pd.read_csv(DATA_DIR / \"test.csv\", dtype=\"uint8\")"
   ]
  },
  {
   "cell_type": "code",
   "execution_count": 5,
   "id": "e1cc8223",
   "metadata": {
    "execution": {
     "iopub.execute_input": "2022-08-25T11:02:21.646553Z",
     "iopub.status.busy": "2022-08-25T11:02:21.646072Z",
     "iopub.status.idle": "2022-08-25T11:02:21.666855Z",
     "shell.execute_reply": "2022-08-25T11:02:21.665829Z"
    },
    "papermill": {
     "duration": 0.030378,
     "end_time": "2022-08-25T11:02:21.669396",
     "exception": false,
     "start_time": "2022-08-25T11:02:21.639018",
     "status": "completed"
    },
    "tags": []
   },
   "outputs": [
    {
     "data": {
      "text/html": [
       "<div>\n",
       "<style scoped>\n",
       "    .dataframe tbody tr th:only-of-type {\n",
       "        vertical-align: middle;\n",
       "    }\n",
       "\n",
       "    .dataframe tbody tr th {\n",
       "        vertical-align: top;\n",
       "    }\n",
       "\n",
       "    .dataframe thead th {\n",
       "        text-align: right;\n",
       "    }\n",
       "</style>\n",
       "<table border=\"1\" class=\"dataframe\">\n",
       "  <thead>\n",
       "    <tr style=\"text-align: right;\">\n",
       "      <th></th>\n",
       "      <th>p0</th>\n",
       "      <th>p1</th>\n",
       "      <th>p2</th>\n",
       "      <th>p3</th>\n",
       "      <th>p4</th>\n",
       "      <th>p5</th>\n",
       "      <th>p6</th>\n",
       "      <th>p7</th>\n",
       "      <th>p8</th>\n",
       "      <th>p9</th>\n",
       "      <th>...</th>\n",
       "      <th>p1014</th>\n",
       "      <th>p1015</th>\n",
       "      <th>p1016</th>\n",
       "      <th>p1017</th>\n",
       "      <th>p1018</th>\n",
       "      <th>p1019</th>\n",
       "      <th>p1020</th>\n",
       "      <th>p1021</th>\n",
       "      <th>p1022</th>\n",
       "      <th>p1023</th>\n",
       "    </tr>\n",
       "  </thead>\n",
       "  <tbody>\n",
       "    <tr>\n",
       "      <th>0</th>\n",
       "      <td>0</td>\n",
       "      <td>0</td>\n",
       "      <td>0</td>\n",
       "      <td>0</td>\n",
       "      <td>0</td>\n",
       "      <td>0</td>\n",
       "      <td>0</td>\n",
       "      <td>0</td>\n",
       "      <td>0</td>\n",
       "      <td>0</td>\n",
       "      <td>...</td>\n",
       "      <td>0</td>\n",
       "      <td>0</td>\n",
       "      <td>0</td>\n",
       "      <td>0</td>\n",
       "      <td>0</td>\n",
       "      <td>0</td>\n",
       "      <td>0</td>\n",
       "      <td>0</td>\n",
       "      <td>0</td>\n",
       "      <td>0</td>\n",
       "    </tr>\n",
       "    <tr>\n",
       "      <th>1</th>\n",
       "      <td>0</td>\n",
       "      <td>0</td>\n",
       "      <td>0</td>\n",
       "      <td>0</td>\n",
       "      <td>0</td>\n",
       "      <td>0</td>\n",
       "      <td>0</td>\n",
       "      <td>0</td>\n",
       "      <td>0</td>\n",
       "      <td>0</td>\n",
       "      <td>...</td>\n",
       "      <td>0</td>\n",
       "      <td>0</td>\n",
       "      <td>0</td>\n",
       "      <td>0</td>\n",
       "      <td>0</td>\n",
       "      <td>0</td>\n",
       "      <td>0</td>\n",
       "      <td>0</td>\n",
       "      <td>0</td>\n",
       "      <td>0</td>\n",
       "    </tr>\n",
       "    <tr>\n",
       "      <th>2</th>\n",
       "      <td>0</td>\n",
       "      <td>0</td>\n",
       "      <td>0</td>\n",
       "      <td>0</td>\n",
       "      <td>0</td>\n",
       "      <td>0</td>\n",
       "      <td>0</td>\n",
       "      <td>0</td>\n",
       "      <td>0</td>\n",
       "      <td>0</td>\n",
       "      <td>...</td>\n",
       "      <td>0</td>\n",
       "      <td>0</td>\n",
       "      <td>0</td>\n",
       "      <td>0</td>\n",
       "      <td>0</td>\n",
       "      <td>0</td>\n",
       "      <td>0</td>\n",
       "      <td>0</td>\n",
       "      <td>0</td>\n",
       "      <td>0</td>\n",
       "    </tr>\n",
       "    <tr>\n",
       "      <th>3</th>\n",
       "      <td>0</td>\n",
       "      <td>0</td>\n",
       "      <td>0</td>\n",
       "      <td>0</td>\n",
       "      <td>0</td>\n",
       "      <td>0</td>\n",
       "      <td>0</td>\n",
       "      <td>0</td>\n",
       "      <td>0</td>\n",
       "      <td>0</td>\n",
       "      <td>...</td>\n",
       "      <td>0</td>\n",
       "      <td>0</td>\n",
       "      <td>0</td>\n",
       "      <td>0</td>\n",
       "      <td>0</td>\n",
       "      <td>0</td>\n",
       "      <td>0</td>\n",
       "      <td>0</td>\n",
       "      <td>0</td>\n",
       "      <td>0</td>\n",
       "    </tr>\n",
       "    <tr>\n",
       "      <th>4</th>\n",
       "      <td>0</td>\n",
       "      <td>0</td>\n",
       "      <td>0</td>\n",
       "      <td>0</td>\n",
       "      <td>0</td>\n",
       "      <td>0</td>\n",
       "      <td>0</td>\n",
       "      <td>0</td>\n",
       "      <td>0</td>\n",
       "      <td>0</td>\n",
       "      <td>...</td>\n",
       "      <td>0</td>\n",
       "      <td>0</td>\n",
       "      <td>0</td>\n",
       "      <td>0</td>\n",
       "      <td>0</td>\n",
       "      <td>0</td>\n",
       "      <td>0</td>\n",
       "      <td>0</td>\n",
       "      <td>0</td>\n",
       "      <td>0</td>\n",
       "    </tr>\n",
       "  </tbody>\n",
       "</table>\n",
       "<p>5 rows × 1024 columns</p>\n",
       "</div>"
      ],
      "text/plain": [
       "   p0  p1  p2  p3  p4  p5  p6  p7  p8  p9  ...  p1014  p1015  p1016  p1017  \\\n",
       "0   0   0   0   0   0   0   0   0   0   0  ...      0      0      0      0   \n",
       "1   0   0   0   0   0   0   0   0   0   0  ...      0      0      0      0   \n",
       "2   0   0   0   0   0   0   0   0   0   0  ...      0      0      0      0   \n",
       "3   0   0   0   0   0   0   0   0   0   0  ...      0      0      0      0   \n",
       "4   0   0   0   0   0   0   0   0   0   0  ...      0      0      0      0   \n",
       "\n",
       "   p1018  p1019  p1020  p1021  p1022  p1023  \n",
       "0      0      0      0      0      0      0  \n",
       "1      0      0      0      0      0      0  \n",
       "2      0      0      0      0      0      0  \n",
       "3      0      0      0      0      0      0  \n",
       "4      0      0      0      0      0      0  \n",
       "\n",
       "[5 rows x 1024 columns]"
      ]
     },
     "execution_count": 5,
     "metadata": {},
     "output_type": "execute_result"
    }
   ],
   "source": [
    "_train_features.head()"
   ]
  },
  {
   "cell_type": "code",
   "execution_count": 6,
   "id": "99b47dd3",
   "metadata": {
    "execution": {
     "iopub.execute_input": "2022-08-25T11:02:21.682034Z",
     "iopub.status.busy": "2022-08-25T11:02:21.681745Z",
     "iopub.status.idle": "2022-08-25T11:02:21.687923Z",
     "shell.execute_reply": "2022-08-25T11:02:21.687048Z"
    },
    "papermill": {
     "duration": 0.014631,
     "end_time": "2022-08-25T11:02:21.689752",
     "exception": false,
     "start_time": "2022-08-25T11:02:21.675121",
     "status": "completed"
    },
    "tags": []
   },
   "outputs": [
    {
     "data": {
      "text/plain": [
       "0    19\n",
       "1    23\n",
       "2     9\n",
       "3    27\n",
       "4    23\n",
       "Name: labels, dtype: uint8"
      ]
     },
     "execution_count": 6,
     "metadata": {},
     "output_type": "execute_result"
    }
   ],
   "source": [
    "_train_target.head()"
   ]
  },
  {
   "cell_type": "code",
   "execution_count": 7,
   "id": "1da13dc0",
   "metadata": {
    "execution": {
     "iopub.execute_input": "2022-08-25T11:02:21.703720Z",
     "iopub.status.busy": "2022-08-25T11:02:21.702148Z",
     "iopub.status.idle": "2022-08-25T11:02:21.717580Z",
     "shell.execute_reply": "2022-08-25T11:02:21.716632Z"
    },
    "papermill": {
     "duration": 0.023982,
     "end_time": "2022-08-25T11:02:21.719435",
     "exception": false,
     "start_time": "2022-08-25T11:02:21.695453",
     "status": "completed"
    },
    "tags": []
   },
   "outputs": [
    {
     "data": {
      "text/html": [
       "<div>\n",
       "<style scoped>\n",
       "    .dataframe tbody tr th:only-of-type {\n",
       "        vertical-align: middle;\n",
       "    }\n",
       "\n",
       "    .dataframe tbody tr th {\n",
       "        vertical-align: top;\n",
       "    }\n",
       "\n",
       "    .dataframe thead th {\n",
       "        text-align: right;\n",
       "    }\n",
       "</style>\n",
       "<table border=\"1\" class=\"dataframe\">\n",
       "  <thead>\n",
       "    <tr style=\"text-align: right;\">\n",
       "      <th></th>\n",
       "      <th>p0</th>\n",
       "      <th>p1</th>\n",
       "      <th>p2</th>\n",
       "      <th>p3</th>\n",
       "      <th>p4</th>\n",
       "      <th>p5</th>\n",
       "      <th>p6</th>\n",
       "      <th>p7</th>\n",
       "      <th>p8</th>\n",
       "      <th>p9</th>\n",
       "      <th>...</th>\n",
       "      <th>p1014</th>\n",
       "      <th>p1015</th>\n",
       "      <th>p1016</th>\n",
       "      <th>p1017</th>\n",
       "      <th>p1018</th>\n",
       "      <th>p1019</th>\n",
       "      <th>p1020</th>\n",
       "      <th>p1021</th>\n",
       "      <th>p1022</th>\n",
       "      <th>p1023</th>\n",
       "    </tr>\n",
       "  </thead>\n",
       "  <tbody>\n",
       "    <tr>\n",
       "      <th>0</th>\n",
       "      <td>0</td>\n",
       "      <td>0</td>\n",
       "      <td>0</td>\n",
       "      <td>0</td>\n",
       "      <td>0</td>\n",
       "      <td>0</td>\n",
       "      <td>0</td>\n",
       "      <td>0</td>\n",
       "      <td>0</td>\n",
       "      <td>0</td>\n",
       "      <td>...</td>\n",
       "      <td>0</td>\n",
       "      <td>0</td>\n",
       "      <td>0</td>\n",
       "      <td>0</td>\n",
       "      <td>0</td>\n",
       "      <td>0</td>\n",
       "      <td>0</td>\n",
       "      <td>0</td>\n",
       "      <td>0</td>\n",
       "      <td>0</td>\n",
       "    </tr>\n",
       "    <tr>\n",
       "      <th>1</th>\n",
       "      <td>0</td>\n",
       "      <td>0</td>\n",
       "      <td>0</td>\n",
       "      <td>0</td>\n",
       "      <td>0</td>\n",
       "      <td>0</td>\n",
       "      <td>0</td>\n",
       "      <td>0</td>\n",
       "      <td>0</td>\n",
       "      <td>0</td>\n",
       "      <td>...</td>\n",
       "      <td>0</td>\n",
       "      <td>0</td>\n",
       "      <td>0</td>\n",
       "      <td>0</td>\n",
       "      <td>0</td>\n",
       "      <td>0</td>\n",
       "      <td>0</td>\n",
       "      <td>0</td>\n",
       "      <td>0</td>\n",
       "      <td>0</td>\n",
       "    </tr>\n",
       "    <tr>\n",
       "      <th>2</th>\n",
       "      <td>0</td>\n",
       "      <td>0</td>\n",
       "      <td>0</td>\n",
       "      <td>0</td>\n",
       "      <td>0</td>\n",
       "      <td>0</td>\n",
       "      <td>0</td>\n",
       "      <td>0</td>\n",
       "      <td>0</td>\n",
       "      <td>0</td>\n",
       "      <td>...</td>\n",
       "      <td>0</td>\n",
       "      <td>0</td>\n",
       "      <td>0</td>\n",
       "      <td>0</td>\n",
       "      <td>0</td>\n",
       "      <td>0</td>\n",
       "      <td>0</td>\n",
       "      <td>0</td>\n",
       "      <td>0</td>\n",
       "      <td>0</td>\n",
       "    </tr>\n",
       "    <tr>\n",
       "      <th>3</th>\n",
       "      <td>0</td>\n",
       "      <td>0</td>\n",
       "      <td>0</td>\n",
       "      <td>0</td>\n",
       "      <td>0</td>\n",
       "      <td>0</td>\n",
       "      <td>0</td>\n",
       "      <td>0</td>\n",
       "      <td>0</td>\n",
       "      <td>0</td>\n",
       "      <td>...</td>\n",
       "      <td>0</td>\n",
       "      <td>0</td>\n",
       "      <td>0</td>\n",
       "      <td>0</td>\n",
       "      <td>0</td>\n",
       "      <td>0</td>\n",
       "      <td>0</td>\n",
       "      <td>0</td>\n",
       "      <td>0</td>\n",
       "      <td>0</td>\n",
       "    </tr>\n",
       "    <tr>\n",
       "      <th>4</th>\n",
       "      <td>0</td>\n",
       "      <td>0</td>\n",
       "      <td>0</td>\n",
       "      <td>0</td>\n",
       "      <td>0</td>\n",
       "      <td>0</td>\n",
       "      <td>0</td>\n",
       "      <td>0</td>\n",
       "      <td>0</td>\n",
       "      <td>0</td>\n",
       "      <td>...</td>\n",
       "      <td>0</td>\n",
       "      <td>0</td>\n",
       "      <td>0</td>\n",
       "      <td>0</td>\n",
       "      <td>0</td>\n",
       "      <td>0</td>\n",
       "      <td>0</td>\n",
       "      <td>0</td>\n",
       "      <td>0</td>\n",
       "      <td>0</td>\n",
       "    </tr>\n",
       "  </tbody>\n",
       "</table>\n",
       "<p>5 rows × 1024 columns</p>\n",
       "</div>"
      ],
      "text/plain": [
       "   p0  p1  p2  p3  p4  p5  p6  p7  p8  p9  ...  p1014  p1015  p1016  p1017  \\\n",
       "0   0   0   0   0   0   0   0   0   0   0  ...      0      0      0      0   \n",
       "1   0   0   0   0   0   0   0   0   0   0  ...      0      0      0      0   \n",
       "2   0   0   0   0   0   0   0   0   0   0  ...      0      0      0      0   \n",
       "3   0   0   0   0   0   0   0   0   0   0  ...      0      0      0      0   \n",
       "4   0   0   0   0   0   0   0   0   0   0  ...      0      0      0      0   \n",
       "\n",
       "   p1018  p1019  p1020  p1021  p1022  p1023  \n",
       "0      0      0      0      0      0      0  \n",
       "1      0      0      0      0      0      0  \n",
       "2      0      0      0      0      0      0  \n",
       "3      0      0      0      0      0      0  \n",
       "4      0      0      0      0      0      0  \n",
       "\n",
       "[5 rows x 1024 columns]"
      ]
     },
     "execution_count": 7,
     "metadata": {},
     "output_type": "execute_result"
    }
   ],
   "source": [
    "test_features.head()"
   ]
  },
  {
   "cell_type": "code",
   "execution_count": 8,
   "id": "e503e117",
   "metadata": {
    "execution": {
     "iopub.execute_input": "2022-08-25T11:02:21.734615Z",
     "iopub.status.busy": "2022-08-25T11:02:21.733021Z",
     "iopub.status.idle": "2022-08-25T11:02:21.820034Z",
     "shell.execute_reply": "2022-08-25T11:02:21.819104Z"
    },
    "papermill": {
     "duration": 0.096859,
     "end_time": "2022-08-25T11:02:21.822243",
     "exception": false,
     "start_time": "2022-08-25T11:02:21.725384",
     "status": "completed"
    },
    "tags": []
   },
   "outputs": [],
   "source": [
    "# split the dataset into training and testing data\n",
    "_seed = 42\n",
    "_random_state = np.random.RandomState(_seed)\n",
    "\n",
    "train_features, val_features, train_target, val_target = model_selection.train_test_split(\n",
    "    _train_features,\n",
    "    _train_target - 1, # need to shift targets to have values 0 - 27\n",
    "    test_size=1e-1,\n",
    "    random_state=_random_state\n",
    ")"
   ]
  },
  {
   "cell_type": "markdown",
   "id": "864c59d1",
   "metadata": {
    "papermill": {
     "duration": 0.006007,
     "end_time": "2022-08-25T11:02:21.834484",
     "exception": false,
     "start_time": "2022-08-25T11:02:21.828477",
     "status": "completed"
    },
    "tags": []
   },
   "source": [
    "# Load the code for the fitting loop"
   ]
  },
  {
   "cell_type": "code",
   "execution_count": 9,
   "id": "9a4d0b8b",
   "metadata": {
    "execution": {
     "iopub.execute_input": "2022-08-25T11:02:21.848489Z",
     "iopub.status.busy": "2022-08-25T11:02:21.848202Z",
     "iopub.status.idle": "2022-08-25T11:02:21.858192Z",
     "shell.execute_reply": "2022-08-25T11:02:21.857352Z"
    },
    "papermill": {
     "duration": 0.019171,
     "end_time": "2022-08-25T11:02:21.860145",
     "exception": false,
     "start_time": "2022-08-25T11:02:21.840974",
     "status": "completed"
    },
    "tags": []
   },
   "outputs": [],
   "source": [
    "def accuracy(output, target):\n",
    "    return torchmetrics.functional.accuracy(output, target)\n",
    "\n",
    "\n",
    "def partial_fit(model_fn, loss_fn, X_batch, y_batch, opt):\n",
    "    # forward pass\n",
    "    loss = loss_fn(model_fn(X_batch), y_batch)\n",
    "\n",
    "    # back propagation\n",
    "    loss.backward()\n",
    "    opt.step()\n",
    "    opt.zero_grad() # don't forget to reset the gradient after each batch!\n",
    "    \n",
    "\n",
    "def validate(model_fn, loss_fn, data_loader):\n",
    "    with torch.no_grad():\n",
    "\n",
    "        batch_accs = []\n",
    "        batch_losses = []\n",
    "        \n",
    "        for X, y in data_loader:\n",
    "            batch_accs.append(accuracy(model_fn(X), y))\n",
    "            batch_losses.append(loss_fn(model_fn(X), y))\n",
    "        \n",
    "        avg_accuracy = (torch.stack(batch_accs)\n",
    "                             .mean())\n",
    "        avg_loss = (torch.stack(batch_losses)\n",
    "                         .mean())\n",
    "\n",
    "    return avg_accuracy, avg_loss\n",
    "\n",
    "\n",
    "def fit(model_fn,\n",
    "        loss_fn,\n",
    "        train_data_loader,\n",
    "        opt, lr_scheduler,\n",
    "        val_data_loader=None,\n",
    "        number_epochs=1):\n",
    "    \n",
    "    for epoch in range(number_epochs):\n",
    "        # train the model\n",
    "        model_fn.train()\n",
    "        for X_batch, y_batch in train_data_loader:\n",
    "            partial_fit(model_fn, loss_fn, X_batch, y_batch, opt)\n",
    "        \n",
    "        # compute validation loss after each training epoch\n",
    "        model_fn.eval()\n",
    "        if val_data_loader is not None:\n",
    "            val_acc, val_loss = validate(model_fn, loss_fn, val_data_loader)\n",
    "            print(f\"Training epoch: {epoch}, Validation accuracy: {val_acc}, Validation loss: {val_loss}\")\n",
    "\n",
    "        # update the learning rate\n",
    "        lr_scheduler.step()\n"
   ]
  },
  {
   "cell_type": "code",
   "execution_count": 10,
   "id": "0df8eb48",
   "metadata": {
    "execution": {
     "iopub.execute_input": "2022-08-25T11:02:21.873112Z",
     "iopub.status.busy": "2022-08-25T11:02:21.872821Z",
     "iopub.status.idle": "2022-08-25T11:02:21.881750Z",
     "shell.execute_reply": "2022-08-25T11:02:21.880831Z"
    },
    "papermill": {
     "duration": 0.018012,
     "end_time": "2022-08-25T11:02:21.884023",
     "exception": false,
     "start_time": "2022-08-25T11:02:21.866011",
     "status": "completed"
    },
    "tags": []
   },
   "outputs": [],
   "source": [
    "class CustomDataset(data.Dataset):\n",
    "    \n",
    "    def __init__(self, features, target=None, transforms = None):\n",
    "        self._data = (features.to_numpy()\n",
    "                              .reshape(-1, 1, 32, 32)\n",
    "                              .transpose(0, 2, 3, 1))\n",
    "        self._target = target.to_numpy() if target is not None else target\n",
    "        self._transforms = transforms\n",
    "        \n",
    "    def __getitem__(self, index):\n",
    "        X, y = self._data[index], self._target[index]\n",
    "        return (self._transforms(X), y) if self._transforms is not None else (X, y)\n",
    "        \n",
    "    def __len__(self):\n",
    "        return len(self._data)\n",
    "\n",
    "\n",
    "class LambdaLayer(nn.Module):\n",
    "    \n",
    "    def __init__(self, f):\n",
    "        super().__init__()\n",
    "        self._f = f\n",
    "        \n",
    "    def forward(self, X):\n",
    "        return self._f(X)\n",
    "\n",
    "\n",
    "class WrappedDataLoader:\n",
    "    \n",
    "    def __init__(self, data_loader, f):\n",
    "        self._data_loader = data_loader\n",
    "        self._f = f\n",
    "        \n",
    "    def __len__(self):\n",
    "        return len(self._data_loader)\n",
    "    \n",
    "    def __iter__(self):\n",
    "        for batch in iter(self._data_loader):\n",
    "            yield self._f(*batch)"
   ]
  },
  {
   "cell_type": "markdown",
   "id": "dba92093",
   "metadata": {
    "papermill": {
     "duration": 0.005748,
     "end_time": "2022-08-25T11:02:21.895716",
     "exception": false,
     "start_time": "2022-08-25T11:02:21.889968",
     "status": "completed"
    },
    "tags": []
   },
   "source": [
    "# Define your model"
   ]
  },
  {
   "cell_type": "code",
   "execution_count": 11,
   "id": "51756f6a",
   "metadata": {
    "execution": {
     "iopub.execute_input": "2022-08-25T11:02:21.908860Z",
     "iopub.status.busy": "2022-08-25T11:02:21.908601Z",
     "iopub.status.idle": "2022-08-25T11:02:21.915666Z",
     "shell.execute_reply": "2022-08-25T11:02:21.914720Z"
    },
    "papermill": {
     "duration": 0.0159,
     "end_time": "2022-08-25T11:02:21.917676",
     "exception": false,
     "start_time": "2022-08-25T11:02:21.901776",
     "status": "completed"
    },
    "tags": []
   },
   "outputs": [],
   "source": [
    "class LeNet5(nn.Module):\n",
    "    \n",
    "    def __init__(self):\n",
    "        super().__init__()\n",
    "        self._conv1 = nn.Conv2d(1, 6, kernel_size=5, stride=1, padding=0)\n",
    "        self._conv2 = nn.Conv2d(6, 16, kernel_size=5, stride=1, padding=0)\n",
    "        self._dense1 = nn.Linear(400, 120)\n",
    "        self._dense2 = nn.Linear(120, 84)\n",
    "        \n",
    "    def forward(self, X):\n",
    "        X = X.view(-1, 1, 32, 32) # implicit knowledge of CIFAR-10 data shape!\n",
    "        X = F.avg_pool2d(F.tanh(self._conv1(X)), 2)\n",
    "        X = F.avg_pool2d(F.tanh(self._conv2(X)), 2)\n",
    "        X = X.view(X.size(0), -1)\n",
    "        X = F.tanh(self._dense1(X))\n",
    "        X = self._dense2(X)\n",
    "        return X"
   ]
  },
  {
   "cell_type": "code",
   "execution_count": 12,
   "id": "28796f71",
   "metadata": {
    "execution": {
     "iopub.execute_input": "2022-08-25T11:02:21.930590Z",
     "iopub.status.busy": "2022-08-25T11:02:21.930331Z",
     "iopub.status.idle": "2022-08-25T11:02:21.938119Z",
     "shell.execute_reply": "2022-08-25T11:02:21.937310Z"
    },
    "papermill": {
     "duration": 0.016323,
     "end_time": "2022-08-25T11:02:21.939991",
     "exception": false,
     "start_time": "2022-08-25T11:02:21.923668",
     "status": "completed"
    },
    "tags": []
   },
   "outputs": [],
   "source": [
    "model_fn = LeNet5()"
   ]
  },
  {
   "cell_type": "code",
   "execution_count": 13,
   "id": "b0e70d05",
   "metadata": {
    "execution": {
     "iopub.execute_input": "2022-08-25T11:02:21.952805Z",
     "iopub.status.busy": "2022-08-25T11:02:21.952551Z",
     "iopub.status.idle": "2022-08-25T11:02:30.897152Z",
     "shell.execute_reply": "2022-08-25T11:02:30.896084Z"
    },
    "papermill": {
     "duration": 8.953397,
     "end_time": "2022-08-25T11:02:30.899251",
     "exception": false,
     "start_time": "2022-08-25T11:02:21.945854",
     "status": "completed"
    },
    "tags": []
   },
   "outputs": [
    {
     "name": "stderr",
     "output_type": "stream",
     "text": [
      "/opt/conda/lib/python3.7/site-packages/torch/nn/functional.py:1933: UserWarning: nn.functional.tanh is deprecated. Use torch.tanh instead.\n",
      "  warnings.warn(\"nn.functional.tanh is deprecated. Use torch.tanh instead.\")\n"
     ]
    },
    {
     "data": {
      "text/plain": [
       "==========================================================================================\n",
       "Layer (type:depth-idx)                   Output Shape              Param #\n",
       "==========================================================================================\n",
       "LeNet5                                   [64, 84]                  --\n",
       "├─Conv2d: 1-1                            [64, 6, 28, 28]           156\n",
       "├─Conv2d: 1-2                            [64, 16, 10, 10]          2,416\n",
       "├─Linear: 1-3                            [64, 120]                 48,120\n",
       "├─Linear: 1-4                            [64, 84]                  10,164\n",
       "==========================================================================================\n",
       "Total params: 60,856\n",
       "Trainable params: 60,856\n",
       "Non-trainable params: 0\n",
       "Total mult-adds (M): 27.02\n",
       "==========================================================================================\n",
       "Input size (MB): 0.26\n",
       "Forward/backward pass size (MB): 3.33\n",
       "Params size (MB): 0.24\n",
       "Estimated Total Size (MB): 3.84\n",
       "=========================================================================================="
      ]
     },
     "execution_count": 13,
     "metadata": {},
     "output_type": "execute_result"
    }
   ],
   "source": [
    "torchinfo.summary(model_fn, input_size=(64, 1, 32, 32))"
   ]
  },
  {
   "cell_type": "markdown",
   "id": "71eaacce",
   "metadata": {
    "papermill": {
     "duration": 0.006593,
     "end_time": "2022-08-25T11:02:30.912689",
     "exception": false,
     "start_time": "2022-08-25T11:02:30.906096",
     "status": "completed"
    },
    "tags": []
   },
   "source": [
    "# Define your DataLoaders"
   ]
  },
  {
   "cell_type": "code",
   "execution_count": 14,
   "id": "6e46a515",
   "metadata": {
    "execution": {
     "iopub.execute_input": "2022-08-25T11:02:30.926262Z",
     "iopub.status.busy": "2022-08-25T11:02:30.925953Z",
     "iopub.status.idle": "2022-08-25T11:02:30.930845Z",
     "shell.execute_reply": "2022-08-25T11:02:30.929933Z"
    },
    "papermill": {
     "duration": 0.013917,
     "end_time": "2022-08-25T11:02:30.932835",
     "exception": false,
     "start_time": "2022-08-25T11:02:30.918918",
     "status": "completed"
    },
    "tags": []
   },
   "outputs": [],
   "source": [
    "device = torch.device(\"cuda\") if torch.cuda.is_available() else torch.device(\"cpu\")\n",
    "\n",
    "# move the tensor from the CPU to the GPU\n",
    "_to_device = lambda X, y: (X.to(device), y.to(device))"
   ]
  },
  {
   "cell_type": "code",
   "execution_count": 15,
   "id": "27379bc7",
   "metadata": {
    "execution": {
     "iopub.execute_input": "2022-08-25T11:02:30.946832Z",
     "iopub.status.busy": "2022-08-25T11:02:30.946012Z",
     "iopub.status.idle": "2022-08-25T11:02:30.954770Z",
     "shell.execute_reply": "2022-08-25T11:02:30.953851Z"
    },
    "papermill": {
     "duration": 0.017674,
     "end_time": "2022-08-25T11:02:30.956796",
     "exception": false,
     "start_time": "2022-08-25T11:02:30.939122",
     "status": "completed"
    },
    "tags": []
   },
   "outputs": [
    {
     "name": "stdout",
     "output_type": "stream",
     "text": [
      "Adjusting learning rate of group 0 to 1.0000e-02.\n"
     ]
    }
   ],
   "source": [
    "# use same loss function from last time\n",
    "loss_fn = F.cross_entropy\n",
    "\n",
    "# define some preprocessing transforms (done on CPU!)\n",
    "_transforms = transforms.Compose([\n",
    "    transforms.ToTensor(),\n",
    "])\n",
    "\n",
    "# define the datasets and dataloaders\n",
    "_train_dataset = CustomDataset(train_features, train_target, _transforms)\n",
    "_train_data_loader = data.DataLoader(_train_dataset, num_workers=2, batch_size=64, shuffle=True)\n",
    "train_data_loader = WrappedDataLoader(_train_data_loader, _to_device)\n",
    "\n",
    "_val_dataset = CustomDataset(val_features, val_target, _transforms)\n",
    "_val_data_loader = data.DataLoader(_val_dataset, num_workers=2, batch_size=128, shuffle=False)\n",
    "val_data_loader = WrappedDataLoader(_val_data_loader, _to_device)\n",
    "\n",
    "# define the optimizer and the learning rate scheduler\n",
    "opt = optim.SGD(model_fn.parameters(), momentum=0.9, lr=1e-2)\n",
    "lr_scheduler = optim.lr_scheduler.ExponentialLR(opt, gamma=0.9, verbose=True)\n"
   ]
  },
  {
   "cell_type": "markdown",
   "id": "a90ecfec",
   "metadata": {
    "papermill": {
     "duration": 0.006614,
     "end_time": "2022-08-25T11:02:30.969539",
     "exception": false,
     "start_time": "2022-08-25T11:02:30.962925",
     "status": "completed"
    },
    "tags": []
   },
   "source": [
    "# Train your model"
   ]
  },
  {
   "cell_type": "code",
   "execution_count": 16,
   "id": "567b4652",
   "metadata": {
    "execution": {
     "iopub.execute_input": "2022-08-25T11:02:30.983546Z",
     "iopub.status.busy": "2022-08-25T11:02:30.982707Z",
     "iopub.status.idle": "2022-08-25T11:02:45.441146Z",
     "shell.execute_reply": "2022-08-25T11:02:45.438838Z"
    },
    "papermill": {
     "duration": 14.468407,
     "end_time": "2022-08-25T11:02:45.444129",
     "exception": false,
     "start_time": "2022-08-25T11:02:30.975722",
     "status": "completed"
    },
    "tags": []
   },
   "outputs": [
    {
     "name": "stdout",
     "output_type": "stream",
     "text": [
      "Training epoch: 0, Validation accuracy: 0.125, Validation loss: 3.0532400608062744\n",
      "Adjusting learning rate of group 0 to 9.0000e-03.\n",
      "Training epoch: 1, Validation accuracy: 0.3068181872367859, Validation loss: 2.245680809020996\n",
      "Adjusting learning rate of group 0 to 8.1000e-03.\n",
      "Training epoch: 2, Validation accuracy: 0.41690343618392944, Validation loss: 1.88618803024292\n",
      "Adjusting learning rate of group 0 to 7.2900e-03.\n",
      "Training epoch: 3, Validation accuracy: 0.5063920617103577, Validation loss: 1.6350936889648438\n",
      "Adjusting learning rate of group 0 to 6.5610e-03.\n",
      "Training epoch: 4, Validation accuracy: 0.5617898106575012, Validation loss: 1.4477553367614746\n",
      "Adjusting learning rate of group 0 to 5.9049e-03.\n",
      "Training epoch: 5, Validation accuracy: 0.5660511255264282, Validation loss: 1.3338687419891357\n",
      "Adjusting learning rate of group 0 to 5.3144e-03.\n",
      "Training epoch: 6, Validation accuracy: 0.6292613744735718, Validation loss: 1.211959719657898\n",
      "Adjusting learning rate of group 0 to 4.7830e-03.\n",
      "Training epoch: 7, Validation accuracy: 0.6356534361839294, Validation loss: 1.1234251260757446\n",
      "Adjusting learning rate of group 0 to 4.3047e-03.\n",
      "Training epoch: 8, Validation accuracy: 0.6654829978942871, Validation loss: 1.071723461151123\n",
      "Adjusting learning rate of group 0 to 3.8742e-03.\n",
      "Training epoch: 9, Validation accuracy: 0.6839488744735718, Validation loss: 1.016155481338501\n",
      "Adjusting learning rate of group 0 to 3.4868e-03.\n"
     ]
    }
   ],
   "source": [
    "_ = model_fn.to(device)\n",
    "\n",
    "fit(model_fn,\n",
    "    loss_fn,\n",
    "    train_data_loader,\n",
    "    opt,\n",
    "    lr_scheduler,\n",
    "    val_data_loader,\n",
    "    number_epochs=10)"
   ]
  },
  {
   "cell_type": "markdown",
   "id": "ea045fd3",
   "metadata": {
    "papermill": {
     "duration": 0.006751,
     "end_time": "2022-08-25T11:02:45.458173",
     "exception": false,
     "start_time": "2022-08-25T11:02:45.451422",
     "status": "completed"
    },
    "tags": []
   },
   "source": [
    "# Make predictions using the test data"
   ]
  },
  {
   "cell_type": "code",
   "execution_count": 17,
   "id": "79527133",
   "metadata": {
    "execution": {
     "iopub.execute_input": "2022-08-25T11:02:45.472842Z",
     "iopub.status.busy": "2022-08-25T11:02:45.472514Z",
     "iopub.status.idle": "2022-08-25T11:02:45.478342Z",
     "shell.execute_reply": "2022-08-25T11:02:45.477316Z"
    },
    "papermill": {
     "duration": 0.015744,
     "end_time": "2022-08-25T11:02:45.480511",
     "exception": false,
     "start_time": "2022-08-25T11:02:45.464767",
     "status": "completed"
    },
    "tags": []
   },
   "outputs": [],
   "source": [
    "def predict(model_fn, data_loader):\n",
    "    with torch.no_grad():\n",
    "\n",
    "        batch_preds = []\n",
    "        \n",
    "        for X, in data_loader:\n",
    "            batch_preds.append(model_fn(X).argmax(dim=1))\n",
    "        \n",
    "        predictions = torch.stack(batch_preds)\n",
    "\n",
    "    return  predictions\n"
   ]
  },
  {
   "cell_type": "code",
   "execution_count": 18,
   "id": "f6826825",
   "metadata": {
    "execution": {
     "iopub.execute_input": "2022-08-25T11:02:45.494901Z",
     "iopub.status.busy": "2022-08-25T11:02:45.494626Z",
     "iopub.status.idle": "2022-08-25T11:02:45.616605Z",
     "shell.execute_reply": "2022-08-25T11:02:45.615629Z"
    },
    "papermill": {
     "duration": 0.131792,
     "end_time": "2022-08-25T11:02:45.618923",
     "exception": false,
     "start_time": "2022-08-25T11:02:45.487131",
     "status": "completed"
    },
    "tags": []
   },
   "outputs": [],
   "source": [
    "# need to create your test dataloader!\n",
    "_test_features = (test_features.to_numpy()\n",
    "                               .reshape(-1, 1, 32, 32)\n",
    "                               .transpose(0, 2, 3, 1))\n",
    "_test_features_tensor = torch.stack([transforms.ToTensor()(arr) for arr in _test_features])\n",
    "_test_dataset = data.TensorDataset(_test_features_tensor.to(device))\n",
    "test_data_loader = data.DataLoader(_test_dataset, batch_size=1, shuffle=False)\n"
   ]
  },
  {
   "cell_type": "code",
   "execution_count": 19,
   "id": "bca492c3",
   "metadata": {
    "execution": {
     "iopub.execute_input": "2022-08-25T11:02:45.634599Z",
     "iopub.status.busy": "2022-08-25T11:02:45.634298Z",
     "iopub.status.idle": "2022-08-25T11:02:46.979481Z",
     "shell.execute_reply": "2022-08-25T11:02:46.978410Z"
    },
    "papermill": {
     "duration": 1.355939,
     "end_time": "2022-08-25T11:02:46.982066",
     "exception": false,
     "start_time": "2022-08-25T11:02:45.626127",
     "status": "completed"
    },
    "tags": []
   },
   "outputs": [],
   "source": [
    "_test_predictions = predict(model_fn, test_data_loader) + 1 # shift targets back!\n",
    "test_predictions = (_test_predictions.to(\"cpu\")\n",
    "                                     .numpy()\n",
    "                                     .flatten())"
   ]
  },
  {
   "cell_type": "markdown",
   "id": "6cef9d51",
   "metadata": {
    "papermill": {
     "duration": 0.006517,
     "end_time": "2022-08-25T11:02:46.995639",
     "exception": false,
     "start_time": "2022-08-25T11:02:46.989122",
     "status": "completed"
    },
    "tags": []
   },
   "source": [
    "# Generate your submission file"
   ]
  },
  {
   "cell_type": "code",
   "execution_count": 20,
   "id": "30d8e9b2",
   "metadata": {
    "execution": {
     "iopub.execute_input": "2022-08-25T11:02:47.010251Z",
     "iopub.status.busy": "2022-08-25T11:02:47.009919Z",
     "iopub.status.idle": "2022-08-25T11:02:47.021641Z",
     "shell.execute_reply": "2022-08-25T11:02:47.020771Z"
    },
    "papermill": {
     "duration": 0.021435,
     "end_time": "2022-08-25T11:02:47.023741",
     "exception": false,
     "start_time": "2022-08-25T11:02:47.002306",
     "status": "completed"
    },
    "tags": []
   },
   "outputs": [],
   "source": [
    "_ = (pd.DataFrame\n",
    "       .from_dict({\"Id\": test_features.index, \"Category\": test_predictions})\n",
    "       .to_csv(\"submission.csv\", index=False))"
   ]
  },
  {
   "cell_type": "code",
   "execution_count": null,
   "id": "a4f5d17c",
   "metadata": {
    "papermill": {
     "duration": 0.00645,
     "end_time": "2022-08-25T11:02:47.037296",
     "exception": false,
     "start_time": "2022-08-25T11:02:47.030846",
     "status": "completed"
    },
    "tags": []
   },
   "outputs": [],
   "source": [
    " "
   ]
  }
 ],
 "metadata": {
  "kernelspec": {
   "display_name": "Python 3",
   "language": "python",
   "name": "python3"
  },
  "language_info": {
   "codemirror_mode": {
    "name": "ipython",
    "version": 3
   },
   "file_extension": ".py",
   "mimetype": "text/x-python",
   "name": "python",
   "nbconvert_exporter": "python",
   "pygments_lexer": "ipython3",
   "version": "3.7.12"
  },
  "papermill": {
   "default_parameters": {},
   "duration": 50.115623,
   "end_time": "2022-08-25T11:02:48.667074",
   "environment_variables": {},
   "exception": null,
   "input_path": "__notebook__.ipynb",
   "output_path": "__notebook__.ipynb",
   "parameters": {},
   "start_time": "2022-08-25T11:01:58.551451",
   "version": "2.3.4"
  }
 },
 "nbformat": 4,
 "nbformat_minor": 5
}
